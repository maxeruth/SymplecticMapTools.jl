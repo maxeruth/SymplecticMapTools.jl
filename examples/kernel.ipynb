{
 "cells": [
  {
   "cell_type": "markdown",
   "source": [
    "# Kernel Method for Finding Invariant Circles\n",
    "\n",
    "Here, we will show examples of the `kernel_eigs` and `kernel_bvp` functions,\n",
    "which find approximately invariant functions of a symplectic map. To be more\n",
    "specific, let $F : \\Omega \\to \\Omega$ be a symplectic map. An approximately\n",
    "invariant function $h$ is one that satisfies\n",
    "$$\n",
    "\\lVert h\\circ F - h \\rVert \\ll \\lVert h \\rVert,\n",
    "$$\n",
    "for some norm. We find the function $h$ by discretizing it via kernels, i.e. for\n",
    "a positive (semi)definite kernel $K : \\Omega \\times \\Omega \\to \\mathbb{R}$, we\n",
    "define the kernel function on the data $y_n \\in \\Omega$ as\n",
    "$$\n",
    "h(x) = \\sum_{n = 1}^{2N}c_n K(x, y_n).\n",
    "$$\n",
    "For the points $y_n$, we first sample a sequence $x_1, x_2, \\dots, x_N$ in some\n",
    "domain $U \\in \\Omega$. Then, we evaluate $F(x_n)$, giving the sequence\n",
    "$y_1 = x_1$, $y_2 = F(x_1)$, $y_3 = x_2$, $y_4 = F(x_2)$, etc.\n",
    "\n",
    "`SymplecticMapTools` comes equipped with sampling schemes for rectangular\n",
    "domains. Consider the symplectic map:"
   ],
   "metadata": {}
  },
  {
   "outputs": [],
   "cell_type": "code",
   "source": [
    "using SymplecticMapTools\n",
    "using CairoMakie\n",
    "using LinearAlgebra"
   ],
   "metadata": {},
   "execution_count": null
  },
  {
   "outputs": [],
   "cell_type": "code",
   "source": [
    "k_sm = 0.3;\n",
    "F = standard_map_F(k_sm);\n",
    "\n",
    "N = 500\n",
    "xb = [0., 1.]\n",
    "yb = [0., 1.]\n",
    "xs = kernel_sample_F(F, N, xb, yb);\n",
    "ylims = yb\n",
    "f, xs_pp = SymplecticMapTools.poincare_plot([0,1], [0,1], F, N, 500; ylims, resolution=(600, 600),\n",
    "                         title=\"Standard Map, k = $(k_sm)\")\n",
    "ax = contents(f[1, 1])\n",
    "plot!(xs[1,1:2:end], xs[2,1:2:end], color=:black, markersize=7, label=L\"x_n\")\n",
    "plot!(xs[1,2:2:end], xs[2,2:2:end], color=:blue, markersize=7, label=L\"F(x_n)\")\n",
    "axislegend()\n",
    "\n",
    "f"
   ],
   "metadata": {},
   "execution_count": null
  },
  {
   "cell_type": "markdown",
   "source": [
    "Above is a Poincare plot of the standard map with $k = 0.3$, along with the\n",
    "points $y_n$ used for the kernel method. Now, to apply the method, we also need\n",
    "weights for boundary conditions $w_{\\mathrm{bd}}:\\Omega \\to \\mathbb{R}$. The\n",
    "boundary condition weight function should be equal to $1$ where you want to\n",
    "enforce boundary conditions, and $0$ where you do not. It is typically best for\n",
    "it to be chosen smooth in between as well. One good option for this is to use a\n",
    "sum of logistic functions. A simple version of this is implemented in\n",
    "`window_weight` for maps in $\\mathbb{T} \\times \\mathbb{R}$ and\n",
    "`rectangular_window_weight` for maps in $\\mathbb{R}^2$:"
   ],
   "metadata": {}
  },
  {
   "outputs": [],
   "cell_type": "code",
   "source": [
    "lims = [0.01, 0.99]; # window size, includes the boundaries\n",
    "α = 0.002;           # Transition length scale\n",
    "w = window_weight(xs, lims, α)\n",
    "\n",
    "resolution = (700, 400); fontsize=25;\n",
    "f = Figure(;resolution, fontsize)\n",
    "ax = Axis(f[1,1], xlabel=L\"x_2\", ylabel=L\"w\")\n",
    "plot!(xs[2, :], w)\n",
    "\n",
    "f"
   ],
   "metadata": {},
   "execution_count": null
  },
  {
   "cell_type": "markdown",
   "source": [
    "The above plot shows how the weighting applys to the vertical component. We see we are\n",
    "applying our boundary conditions at the top and bottom, but not in the\n",
    "interior. Now, we have enough information to call `kernel_eigs` to find an\n",
    "approximately invariant function. It does this by minimizing the following\n",
    "Rayleigh quotient:\n",
    "$$\n",
    "\\lambda = \\min_c \\frac{ E_{\\mathrm{Inv}} + E_{\\mathrm{bd}} + E_{\\mathrm{K}} }{E_{L^2}},\n",
    "$$\n",
    "where\n",
    "$$\n",
    "E_{\\mathrm{Inv}} = \\sum_{n = 1}^N (h(y_{2n-1}) - h(y_{2n}))^2 = \\sum_{n = 1}^N (h(x_n) - h(F(x_n)))^2\n",
    "$$\n",
    "is an energy that forces $h$ to be approximately invariant,\n",
    "$$\n",
    "E_{\\mathrm{bd}} = \\sum_{n=1}^{2N} w_{\\mathrm{bd}}(y_n) h(y_n)^2\n",
    "$$\n",
    "is the a penalty on nonzero boundary conditions,\n",
    "$$\n",
    "E_{\\mathrm{K}} = \\sum_{n, m = 1}^{2N} K(y_n, y_m) c_n c_m\n",
    "$$\n",
    "is a kernel norm encouraging smooth solutions, and\n",
    "$$\n",
    "E_{L^2} = \\sum_{n = 1}^{2N} h(y_n)^2\n",
    "$$\n",
    "is the $L^2$ norm of the function. We note that the eigenvalue problem is\n",
    "useful to get a nonzero solution (simply minimizing the numerator would give\n",
    "$h = 0$ regardless of the map, a decidedly unhelpful function).\n",
    "\n",
    "We can see an output approximately invariant function in the following block:"
   ],
   "metadata": {}
  },
  {
   "outputs": [],
   "cell_type": "code",
   "source": [
    "ϵ = 1e-8 # Weight of regularization. Should be small and nonzero\n",
    "nev = 1  # Number of eigenvalues/eigenvectors to find\n",
    "σ = 0.25 # Length scale of the kernel\n",
    "kernel = :FourierSE # Product kernel that is periodic sine squared exponential in x and squared exponential in y\n",
    "\n",
    "λs, vs, k = kernel_eigs(xs, ϵ, nev, σ, w; kernel)\n",
    "println(\"The returned eigenvalue is λ = $(λs[1])\")\n",
    "f, f_grid = plot_on_grid(0:0.01:1, 0:0.01:1, k; levels=30,\n",
    "                         resolution=(700, 600), xlabel=\"x\", ylabel=\"y\",\n",
    "                         title=\"Approximately Invariant Eigenfunction\")\n",
    "f"
   ],
   "metadata": {},
   "execution_count": null
  },
  {
   "cell_type": "markdown",
   "source": [
    "Qualitatively, we see the contours of the label function matches the Poincare\n",
    "plot well. Additionally, the value of $\\lambda$ tells us that\n",
    "$E_{\\mathrm{Inv}} \\ll E_{L^2}$, which is the discretization of our definition\n",
    "of an approximately invariant function.\n",
    "\n",
    "We can find such a plot without an eigenvalue solve as well using a boundary\n",
    "value problem. For this, we require a boundary value function\n",
    "$h_{\\mathrm{bd}} : \\Omega \\to \\mathbb{R}$. Given this, the boundary value\n",
    "problem is phrased as\n",
    "$$\n",
    "R = \\min_c (E_{\\mathrm{Inv}} + E_{\\mathrm{bd,h}} + \\epsilon E_{\\mathrm{K}}),\n",
    "$$\n",
    "where\n",
    "$$\n",
    "E_{\\mathrm{bd, h}} = \\sum_{n=1}^{2N} w_{\\mathrm{bd}}(y_n) (h(y_n) - h_{\\mathrm{bd}}(y_n))^2\n",
    "$$\n",
    "is the new boundary condition energy. The boundary values give a different\n",
    "method by which the label function is forced to be nonzero. Typically, the\n",
    "boundary value problem is useful when you want to know if circles foliate a\n",
    "certain annulus.\n",
    "\n",
    "We can apply this method using the function `kernel_bvp`:"
   ],
   "metadata": {}
  },
  {
   "outputs": [],
   "cell_type": "code",
   "source": [
    "hbd = [xi[2] > 0.5 ? 1. : -1. for xi = eachcol(xs)]\n",
    "k, R, E_bd, E_inv, E_K = kernel_bvp(xs, ϵ, σ, w, hbd; kernel)\n",
    "hs = evaluate(k, xs)\n",
    "println(\"R     = $R,\n",
    "E_bd  = $(E_bd),\n",
    "E_inv = $(E_inv),\n",
    "E_K   = $(E_K),\n",
    "E_L2  = $(hs'*hs)\")\n",
    "f, f_grid = plot_on_grid(0:0.01:1, 0:0.01:1, k; levels=30,\n",
    "                         resolution=(700, 600), xlabel=\"x\", ylabel=\"y\",\n",
    "                         title=\"Approximately Invariant BVP\")\n",
    "f"
   ],
   "metadata": {},
   "execution_count": null
  },
  {
   "cell_type": "markdown",
   "source": [
    "Again, we see a very similar invariant function, with\n",
    "$E_{\\mathrm{Inv}} \\ll E_{L^2}$."
   ],
   "metadata": {}
  },
  {
   "cell_type": "markdown",
   "source": [
    "---\n",
    "\n",
    "*This notebook was generated using [Literate.jl](https://github.com/fredrikekre/Literate.jl).*"
   ],
   "metadata": {}
  }
 ],
 "nbformat_minor": 3,
 "metadata": {
  "language_info": {
   "file_extension": ".jl",
   "mimetype": "application/julia",
   "name": "julia",
   "version": "1.9.2"
  },
  "kernelspec": {
   "name": "julia-1.9",
   "display_name": "Julia 1.9.2",
   "language": "julia"
  }
 },
 "nbformat": 4
}
