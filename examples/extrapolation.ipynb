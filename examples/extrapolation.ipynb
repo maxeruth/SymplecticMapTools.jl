{
 "cells": [
  {
   "cell_type": "markdown",
   "source": [
    "# Extrapolation Example\n",
    "## Max Ruth"
   ],
   "metadata": {}
  },
  {
   "cell_type": "markdown",
   "source": [
    "This is an example of `SymplecticMapTools.jl`. The example exists both as a webpage and as a notebook. To find the notebook, simply go to the `/examples/` folder in the package directory.\n",
    "\n",
    "We will show how sequence extrapolation can be used for finding invariant circles of the Chirikov standard map. The standard map is given by\n",
    "$$\n",
    "\\begin{aligned}\n",
    "    x_{t+1} &= x_t + y_{t+1} \\mod 1, \\\\\n",
    "    y_{t+1} &= y_t - \\frac{k}{2\\pi} \\sin(2\\pi x_t).\n",
    "\\end{aligned}\n",
    "$$\n",
    "\n",
    "For this example, we will use $k=0.7$, which gives a nice mix of chaos, invariant circles, and islands."
   ],
   "metadata": {}
  },
  {
   "outputs": [],
   "cell_type": "code",
   "source": [
    "using Revise\n",
    "using SymplecticMapTools\n",
    "using CairoMakie\n",
    "using LinearAlgebra"
   ],
   "metadata": {},
   "execution_count": null
  },
  {
   "outputs": [],
   "cell_type": "code",
   "source": [
    "k_sm = 0.7\n",
    "F = standard_map_F(k_sm)\n",
    "\n",
    "f, xs_pp = poincare_plot([0,1], [0,1], F, 500, 1000, title=\"Standard Map, k = $(k_sm)\")\n",
    "f"
   ],
   "metadata": {},
   "execution_count": null
  },
  {
   "cell_type": "markdown",
   "source": [
    "The extrapolation method presented here has two steps:\n",
    "1. Perform an extrapolation method (minimal polynomial extrapolation (MPE) or reduced rank extrapolation (RRE)). The extrapolation method returns a filter for the sequence. When the linear model is applied to the sequence, it can extract the mean (also known as the Birkhoff ergodic average). Additionally, if the extrapolation returns a low residual, this can be used as an indicator that the trajectory is integrable (i.e. it is an invariant circle or island) rather than chaotic.\n",
    "2. If the trajectory is classified as integrable, we can extract frequency information from the learned filter. This can be used to recover the rotation number, as well as the Fourier modes of the invariant structures.\n",
    "\n",
    "As first step, we choose some initial points. The above plot was made using initial points sampled from a `SoboloSeq` (see [Sobol.jl](https://github.com/JuliaMath/Sobol.jl)). So, we will simply use those:"
   ],
   "metadata": {}
  },
  {
   "outputs": [],
   "cell_type": "code",
   "source": [
    "Ncircle = 100\n",
    "\n",
    "resolution=(800, 800)\n",
    "fontsize=25\n",
    "\n",
    "x_init = xs_pp[:, 1, 1:Ncircle];\n",
    "\n",
    "f = Figure(resolution=(800, 800), fontsize=25);\n",
    "ax = Axis(f[1,1], xlabel = \"x\", ylabel = \"y\", title = \"Initial points\");\n",
    "scatter!(x_init)\n",
    "f"
   ],
   "metadata": {},
   "execution_count": null
  },
  {
   "cell_type": "markdown",
   "source": [
    "Then, we find extrapolated models at each of these points. The model will be obtained via the `adaptive_birkhoff_extrapolation` function.\n",
    "\n",
    "However, we note that there is a detail that must be considered with the standard map. The extrapolation code is written for continuous signals. The standard map is continuous on $\\mathbb{T} \\times \\mathbb{R}$, but it is not on $\\mathbb{R}^2$. The algorithms assume that the signal is continuous in $\\mathbb{R}^2$, however, so we need to map the space to an appropriate one. For this, we will use the observable function\n",
    "```\n",
    "h(x, y) = \\begin{pmatrix}\n",
    "\\left(y + \\frac{1}{2} \\right)\\cos(2\\pi x) \\\\\n",
    "\\left(y + \\frac{1}{2} \\right)\\sin(2\\pi x)\n",
    "\\end{pmatrix}\n",
    "```"
   ],
   "metadata": {}
  },
  {
   "outputs": [],
   "cell_type": "code",
   "source": [
    "rtol = 1e-8\n",
    "Kinit = 50\n",
    "Kstride = 50\n",
    "Kmax = 400\n",
    "Nfactor = 1.5;\n",
    "\n",
    "h, HJ, hinv, HJinv = polar_map();\n",
    "cs = Vector{Vector{Float64}}(undef, Ncircle);\n",
    "hs = Vector{Matrix{Float64}}(undef, Ncircle);\n",
    "xs = Vector{Matrix{Float64}}(undef, Ncircle);\n",
    "rnorms = zeros(Ncircle)\n",
    "Ks = zeros(Int64, Ncircle)\n",
    "for ii = 1:Ncircle\n",
    "    if (ii % 10) == 0; println(\"ii = $(ii)/$(Ncircle)\"); end\n",
    "    cs[ii], _, _, xs[ii], hs[ii], rnorms[ii], Ks[ii], _ = adaptive_birkhoff_extrapolation(h, F, x_init[:, ii]; rtol, Kinit, Kstride, Kmax, Nfactor)\n",
    "end"
   ],
   "metadata": {},
   "execution_count": null
  },
  {
   "outputs": [],
   "cell_type": "code",
   "source": [
    "markersize=5\n",
    "f = Figure(;resolution, fontsize);\n",
    "ax = Axis(f[1,1], xlabel=\"x\", ylabel=\"y\");\n",
    "xlims!(0, 1); ylims!(0,1)\n",
    "for ii = (1:Ncircle)\n",
    "    if rnorms[ii] < rtol\n",
    "        CairoMakie.scatter!(xs[ii][1,:], xs[ii][2,:]; color=:black, markersize, label=\"Invariant Circles / Islands\")\n",
    "    else\n",
    "        CairoMakie.scatter!(xs[ii][1,:], xs[ii][2,:]; color=:red, markersize, label=\"Chaos\")\n",
    "    end\n",
    "end\n",
    "axislegend(ax, merge=true)\n",
    "f"
   ],
   "metadata": {},
   "execution_count": null
  },
  {
   "cell_type": "markdown",
   "source": [
    "The above is a plot which shows the trajectories as black if the extrapolation algorithm converged to the tolerance of `1e-7` and red if they did not. We see that the red trajectories did not converge quickly, and they correlate strongly with whether the trajectory is in chaos. We can check the filter length for the values of $K$ we iterated over:"
   ],
   "metadata": {}
  },
  {
   "outputs": [],
   "cell_type": "code",
   "source": [
    "for Ki = Kinit:Kstride:Kmax\n",
    "    Ksum = sum(Ks .== Ki)\n",
    "    println(\"Number of trajectories for K=$(Ki) is $(Ksum)\")\n",
    "end"
   ],
   "metadata": {},
   "execution_count": null
  },
  {
   "cell_type": "markdown",
   "source": [
    "We see that most trajectories are classified when $K \\leq 200$, with only a few being classified later. Additionally, those that are mis-classified tend to be at the edges of island chains or chaos.\n",
    "\n",
    "Now, we turn to finding models for the invariant circles. We do this via the function `get_circle_info`."
   ],
   "metadata": {}
  },
  {
   "outputs": [],
   "cell_type": "code",
   "source": [
    "zs = Vector{FourierCircle}(undef, Ncircle)\n",
    "for ii = (1:Ncircle)[rnorms .< rtol]\n",
    "    zs[ii] = get_circle_info(hs[ii], cs[ii])\n",
    "end"
   ],
   "metadata": {},
   "execution_count": null
  },
  {
   "cell_type": "markdown",
   "source": [
    "Additionally, for the special case where we need to work with observations from $h : \\mathbb{T}\\times\\mathbb{R} \\to \\mathbb{R}^2$, we have a plotting routine that can be used to plot the invariant circles in $\\mathbb{R}^2$ given an inverse function $h^{-1}$. This is done in the following:"
   ],
   "metadata": {}
  },
  {
   "outputs": [],
   "cell_type": "code",
   "source": [
    "f = Figure(;resolution, fontsize);\n",
    "ax = Axis(f[1,1], xlabel=\"x\", ylabel=\"y\")\n",
    "xlims!(0, 1); ylims!(0,1)\n",
    "for ii = (1:Ncircle)[rnorms .< rtol]\n",
    "    lines_periodic!(ax, zs[ii], hinv; N=500, color=:red, linewidth=4, label=\"Invariant Circles\")\n",
    "    scatter!(xs[ii][1,:], xs[ii][2,:], markersize=3, color=:blue, label=\"Trajectories\")\n",
    "end\n",
    "axislegend(ax, merge=true)\n",
    "f"
   ],
   "metadata": {},
   "execution_count": null
  },
  {
   "cell_type": "markdown",
   "source": [
    "In the above plot, we have plotted the trajectories on the found invariant circles. We see that the trajectories qualitatively match well. Additionally, we can use the function `get_circle_residual` to find a validation error. This is useful in automatically identifying cases where the found Fourier series is incorrect."
   ],
   "metadata": {}
  },
  {
   "outputs": [],
   "cell_type": "code",
   "source": [
    "N_norm = 6;\n",
    "res = 0\n",
    "errs_validation = zeros(Ncircle)\n",
    "for ii = (1:Ncircle)[rnorms .< rtol]\n",
    "    res = get_circle_residual((x) -> h(F(hinv(x))), zs[ii], N_norm)\n",
    "    errs_validation[ii] = norm(res)/sqrt(length(res))\n",
    "end\n",
    "ind = rnorms .< rtol\n",
    "\n",
    "\n",
    "println(\"Invariant circle validation errors:\n",
    "   smallest --- $(minimum(errs_validation[ind]))\n",
    "   largest  --- $(maximum(errs_validation[ind]))\n",
    "   median   --- $(sort!(errs_validation[ind])[sum(ind)÷2])\n",
    "\")"
   ],
   "metadata": {},
   "execution_count": null
  },
  {
   "cell_type": "markdown",
   "source": [
    "---\n",
    "\n",
    "*This notebook was generated using [Literate.jl](https://github.com/fredrikekre/Literate.jl).*"
   ],
   "metadata": {}
  }
 ],
 "nbformat_minor": 3,
 "metadata": {
  "language_info": {
   "file_extension": ".jl",
   "mimetype": "application/julia",
   "name": "julia",
   "version": "1.9.2"
  },
  "kernelspec": {
   "name": "julia-1.9",
   "display_name": "Julia 1.9.2",
   "language": "julia"
  }
 },
 "nbformat": 4
}
